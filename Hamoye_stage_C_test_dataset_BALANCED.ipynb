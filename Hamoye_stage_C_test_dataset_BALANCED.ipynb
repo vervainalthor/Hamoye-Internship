{
  "nbformat": 4,
  "nbformat_minor": 0,
  "metadata": {
    "kernelspec": {
      "display_name": "Python 3",
      "language": "python",
      "name": "python3"
    },
    "language_info": {
      "codemirror_mode": {
        "name": "ipython",
        "version": 3
      },
      "file_extension": ".py",
      "mimetype": "text/x-python",
      "name": "python",
      "nbconvert_exporter": "python",
      "pygments_lexer": "ipython3",
      "version": "3.7.6"
    },
    "colab": {
      "name": "Hamoye stage C test dataset BALANCED.ipynb",
      "provenance": [],
      "collapsed_sections": []
    }
  },
  "cells": [
    {
      "cell_type": "markdown",
      "metadata": {
        "id": "pivovH8iJrOG",
        "colab_type": "text"
      },
      "source": [
        "# FOLLOWING THE TEST INSTRUCTIONS\n",
        "## DISCLAIMER\n",
        "### THIS IS NOT A TEST SOLUTION, IT IS JUST AN END TO END CLASSIFICATION PROBLEM FOLLOWING THE TEST INSTRUCTIONS        \n",
        "###I HAVE NOT DONE THE TEST"
      ]
    },
    {
      "cell_type": "code",
      "metadata": {
        "id": "q8G6NnSNEMpk",
        "colab_type": "code",
        "colab": {}
      },
      "source": [
        "import pandas as pd\n",
        "df = pd.read_csv('Data_for_UCI_named.csv')"
      ],
      "execution_count": 1,
      "outputs": []
    },
    {
      "cell_type": "markdown",
      "metadata": {
        "id": "rCjgZWe3EMqC",
        "colab_type": "text"
      },
      "source": [
        "# Dataset Description\n",
        "Stability of the Grid System\n",
        "Electrical grids require a balance between electricity supply and demand in order to be stable. Conventional systems achieve this balance through demanddriven electricity production. For future grids with a high share of inϐlexible (i.e., renewable) energy source, the concept of demand response is a promising\n",
        "solution. This implies changes in electricity consumption in relation to electricity price changes. In this work, we’ll build a binary classiϐication model to\n",
        "predict if a grid is stable or unstable using the UCI Electrical Grid Stability Simulated dataset.\n",
        "Dataset: https://archive.ics.uci.edu/ml/datasets/Electrical+Grid+Stability+Simulated+Data+\n",
        "\n",
        "\n",
        "It has 12 primary predictive features and two dependent variables.\n",
        "### Predictive features:\n",
        "1. 'tau1' to 'tau4': the reaction time of each network participant, a real value within the range 0.5 to 10 ('tau1' corresponds to the supplier node, 'tau2'\n",
        "to 'tau4' to the consumer nodes);\n",
        "2. 'p1' to 'p4': nominal power produced (positive) or consumed (negative) by each network participant, a real value within the range -2.0 to -0.5 for\n",
        "consumers ('p2' to 'p4'). As the total power consumed equals the total power generated, p1 (supplier node) = - (p2 + p3 + p4);\n",
        "3. 'g1' to 'g4': price elasticity coefϐicient for each network participant, a real value within the range 0.05 to 1.00 ('g1' corresponds to the supplier node,\n",
        "'g2' to 'g4' to the consumer nodes; 'g' stands for 'gamma');\n",
        "\n",
        "\n",
        "### Dependent variables:\n",
        "1. 'stab': the maximum real part of the characteristic differential equation root (if positive, the system is linearly unstable; if negative, linearly stable);\n",
        "2. 'stabf': a categorical (binary) label ('stable' or 'unstable').\n",
        "\n",
        "# TEST INSTRUCTIONS\n",
        "\n",
        "* Because of the direct relationship between 'stab' and 'stabf' ('stabf' = 'stable' if 'stab' <= 0, 'unstable' otherwise), 'stab' should be dropped and 'stabf' will\n",
        "remain as the sole dependent variable (binary classiϐication).\n",
        "\n",
        "* Split the data into an 80-20 train-test split with a random state of “1”. Use the standard scaler to transform the train set (x_train, **y_balanced**) and the test set\n",
        "(x_test). BECAUSE OF THIS I AM MAKING THE ASSUMPTION THAT THEY WANT US TO BALANCE IT FIRST.\n",
        "\n",
        "* Use scikit learn to train a random forest and extra trees classifier. And use xgboost and lightgbm to train an extreme boosting model and a light gradient boosting model. Use **random_state = 1** for training all models and evaluate on the test set.\n",
        "\n",
        "\n",
        "* Also, to improve the Extra Trees Classifier, you will use the following parameters (number of estimators, minimum number of samples, minimum number of samples for leaf node and the number of features to consider when looking for the best split) for the hyperparameter grid needed to run a Randomized Cross Validation Search (RandomizedSearchCV).\n",
        "\n",
        "\n",
        "\n",
        "```\n",
        "n_estimators = [50, 100, 300, 500, 1000]\n",
        "\n",
        "min_samples_split = [2, 3, 5, 7, 9]\n",
        "\n",
        "min_samples_leaf = [1, 2, 4, 6, 8]\n",
        "\n",
        "max_features = ['auto', 'sqrt', 'log2', None]\n",
        "\n",
        "hyperparameter_grid = {'n_estimators': n_estimators,'min_samples_leaf': min_samples_leaf,\n",
        "'min_samples_split': min_samples_split,\n",
        "'max_features': max_features}\n",
        "```\n",
        "\n"
      ]
    },
    {
      "cell_type": "code",
      "metadata": {
        "id": "C1c7CNqrEMqG",
        "colab_type": "code",
        "colab": {
          "base_uri": "https://localhost:8080/",
          "height": 217
        },
        "outputId": "5f0acdff-056f-4cf5-9d4f-db33dba11268"
      },
      "source": [
        "df.head()"
      ],
      "execution_count": 2,
      "outputs": [
        {
          "output_type": "execute_result",
          "data": {
            "text/html": [
              "<div>\n",
              "<style scoped>\n",
              "    .dataframe tbody tr th:only-of-type {\n",
              "        vertical-align: middle;\n",
              "    }\n",
              "\n",
              "    .dataframe tbody tr th {\n",
              "        vertical-align: top;\n",
              "    }\n",
              "\n",
              "    .dataframe thead th {\n",
              "        text-align: right;\n",
              "    }\n",
              "</style>\n",
              "<table border=\"1\" class=\"dataframe\">\n",
              "  <thead>\n",
              "    <tr style=\"text-align: right;\">\n",
              "      <th></th>\n",
              "      <th>tau1</th>\n",
              "      <th>tau2</th>\n",
              "      <th>tau3</th>\n",
              "      <th>tau4</th>\n",
              "      <th>p1</th>\n",
              "      <th>p2</th>\n",
              "      <th>p3</th>\n",
              "      <th>p4</th>\n",
              "      <th>g1</th>\n",
              "      <th>g2</th>\n",
              "      <th>g3</th>\n",
              "      <th>g4</th>\n",
              "      <th>stab</th>\n",
              "      <th>stabf</th>\n",
              "    </tr>\n",
              "  </thead>\n",
              "  <tbody>\n",
              "    <tr>\n",
              "      <th>0</th>\n",
              "      <td>2.959060</td>\n",
              "      <td>3.079885</td>\n",
              "      <td>8.381025</td>\n",
              "      <td>9.780754</td>\n",
              "      <td>3.763085</td>\n",
              "      <td>-0.782604</td>\n",
              "      <td>-1.257395</td>\n",
              "      <td>-1.723086</td>\n",
              "      <td>0.650456</td>\n",
              "      <td>0.859578</td>\n",
              "      <td>0.887445</td>\n",
              "      <td>0.958034</td>\n",
              "      <td>0.055347</td>\n",
              "      <td>unstable</td>\n",
              "    </tr>\n",
              "    <tr>\n",
              "      <th>1</th>\n",
              "      <td>9.304097</td>\n",
              "      <td>4.902524</td>\n",
              "      <td>3.047541</td>\n",
              "      <td>1.369357</td>\n",
              "      <td>5.067812</td>\n",
              "      <td>-1.940058</td>\n",
              "      <td>-1.872742</td>\n",
              "      <td>-1.255012</td>\n",
              "      <td>0.413441</td>\n",
              "      <td>0.862414</td>\n",
              "      <td>0.562139</td>\n",
              "      <td>0.781760</td>\n",
              "      <td>-0.005957</td>\n",
              "      <td>stable</td>\n",
              "    </tr>\n",
              "    <tr>\n",
              "      <th>2</th>\n",
              "      <td>8.971707</td>\n",
              "      <td>8.848428</td>\n",
              "      <td>3.046479</td>\n",
              "      <td>1.214518</td>\n",
              "      <td>3.405158</td>\n",
              "      <td>-1.207456</td>\n",
              "      <td>-1.277210</td>\n",
              "      <td>-0.920492</td>\n",
              "      <td>0.163041</td>\n",
              "      <td>0.766689</td>\n",
              "      <td>0.839444</td>\n",
              "      <td>0.109853</td>\n",
              "      <td>0.003471</td>\n",
              "      <td>unstable</td>\n",
              "    </tr>\n",
              "    <tr>\n",
              "      <th>3</th>\n",
              "      <td>0.716415</td>\n",
              "      <td>7.669600</td>\n",
              "      <td>4.486641</td>\n",
              "      <td>2.340563</td>\n",
              "      <td>3.963791</td>\n",
              "      <td>-1.027473</td>\n",
              "      <td>-1.938944</td>\n",
              "      <td>-0.997374</td>\n",
              "      <td>0.446209</td>\n",
              "      <td>0.976744</td>\n",
              "      <td>0.929381</td>\n",
              "      <td>0.362718</td>\n",
              "      <td>0.028871</td>\n",
              "      <td>unstable</td>\n",
              "    </tr>\n",
              "    <tr>\n",
              "      <th>4</th>\n",
              "      <td>3.134112</td>\n",
              "      <td>7.608772</td>\n",
              "      <td>4.943759</td>\n",
              "      <td>9.857573</td>\n",
              "      <td>3.525811</td>\n",
              "      <td>-1.125531</td>\n",
              "      <td>-1.845975</td>\n",
              "      <td>-0.554305</td>\n",
              "      <td>0.797110</td>\n",
              "      <td>0.455450</td>\n",
              "      <td>0.656947</td>\n",
              "      <td>0.820923</td>\n",
              "      <td>0.049860</td>\n",
              "      <td>unstable</td>\n",
              "    </tr>\n",
              "  </tbody>\n",
              "</table>\n",
              "</div>"
            ],
            "text/plain": [
              "       tau1      tau2      tau3  ...        g4      stab     stabf\n",
              "0  2.959060  3.079885  8.381025  ...  0.958034  0.055347  unstable\n",
              "1  9.304097  4.902524  3.047541  ...  0.781760 -0.005957    stable\n",
              "2  8.971707  8.848428  3.046479  ...  0.109853  0.003471  unstable\n",
              "3  0.716415  7.669600  4.486641  ...  0.362718  0.028871  unstable\n",
              "4  3.134112  7.608772  4.943759  ...  0.820923  0.049860  unstable\n",
              "\n",
              "[5 rows x 14 columns]"
            ]
          },
          "metadata": {
            "tags": []
          },
          "execution_count": 2
        }
      ]
    },
    {
      "cell_type": "code",
      "metadata": {
        "id": "V-nBUmuLEMqh",
        "colab_type": "code",
        "colab": {
          "base_uri": "https://localhost:8080/",
          "height": 70
        },
        "outputId": "082ea5c6-dbd9-4eae-cf87-16544fa22995"
      },
      "source": [
        "#check distribution of target variable\n",
        "df['stabf'].value_counts()"
      ],
      "execution_count": 3,
      "outputs": [
        {
          "output_type": "execute_result",
          "data": {
            "text/plain": [
              "unstable    6380\n",
              "stable      3620\n",
              "Name: stabf, dtype: int64"
            ]
          },
          "metadata": {
            "tags": []
          },
          "execution_count": 3
        }
      ]
    },
    {
      "cell_type": "code",
      "metadata": {
        "id": "HqHfHQaeEMq1",
        "colab_type": "code",
        "colab": {
          "base_uri": "https://localhost:8080/",
          "height": 283
        },
        "outputId": "2fdbc4ea-41c8-46b9-d17e-885dc7305ef6"
      },
      "source": [
        "df.isna().sum()"
      ],
      "execution_count": 4,
      "outputs": [
        {
          "output_type": "execute_result",
          "data": {
            "text/plain": [
              "tau1     0\n",
              "tau2     0\n",
              "tau3     0\n",
              "tau4     0\n",
              "p1       0\n",
              "p2       0\n",
              "p3       0\n",
              "p4       0\n",
              "g1       0\n",
              "g2       0\n",
              "g3       0\n",
              "g4       0\n",
              "stab     0\n",
              "stabf    0\n",
              "dtype: int64"
            ]
          },
          "metadata": {
            "tags": []
          },
          "execution_count": 4
        }
      ]
    },
    {
      "cell_type": "markdown",
      "metadata": {
        "id": "QuRW7UqXEMrG",
        "colab_type": "text"
      },
      "source": [
        "The dataset is already clean and the dataset does not seem too imbalanced and the performance of balancing was not stated in the instructions"
      ]
    },
    {
      "cell_type": "code",
      "metadata": {
        "id": "7QLJxn6REMrT",
        "colab_type": "code",
        "colab": {}
      },
      "source": [
        "#more preprocessing\n",
        "X = df.drop(columns=['stab','stabf'])\n",
        "y = df['stabf']"
      ],
      "execution_count": 5,
      "outputs": []
    },
    {
      "cell_type": "code",
      "metadata": {
        "id": "6Z9FFNeeEMrv",
        "colab_type": "code",
        "colab": {
          "base_uri": "https://localhost:8080/",
          "height": 70
        },
        "outputId": "65d5e369-3c14-46f4-e6ac-77cb22e2fb36"
      },
      "source": [
        "#split the data into training and testing sets\n",
        "from sklearn.model_selection import train_test_split\n",
        "x_train, x_test, y_train, y_test = train_test_split(X, y, test_size=0.2, random_state=1)\n",
        "y_train.value_counts()"
      ],
      "execution_count": 6,
      "outputs": [
        {
          "output_type": "execute_result",
          "data": {
            "text/plain": [
              "unstable    5092\n",
              "stable      2908\n",
              "Name: stabf, dtype: int64"
            ]
          },
          "metadata": {
            "tags": []
          },
          "execution_count": 6
        }
      ]
    },
    {
      "cell_type": "code",
      "metadata": {
        "id": "KdtTAv7ZFJuN",
        "colab_type": "code",
        "colab": {
          "base_uri": "https://localhost:8080/",
          "height": 143
        },
        "outputId": "062a7d79-786a-4288-a21b-3b4538b3fb7e"
      },
      "source": [
        "import imblearn\n",
        "from imblearn.over_sampling import SMOTE\n",
        "smote = SMOTE(random_state=1)\n",
        "x_train_balanced,y_balanced = smote.fit_sample(x_train,y_train)\n",
        "x_train_balanced = pd.DataFrame(x_train_balanced, columns=x_train.columns)"
      ],
      "execution_count": 7,
      "outputs": [
        {
          "output_type": "stream",
          "text": [
            "/usr/local/lib/python3.6/dist-packages/sklearn/externals/six.py:31: FutureWarning: The module is deprecated in version 0.21 and will be removed in version 0.23 since we've dropped support for Python 2.7. Please rely on the official version of six (https://pypi.org/project/six/).\n",
            "  \"(https://pypi.org/project/six/).\", FutureWarning)\n",
            "/usr/local/lib/python3.6/dist-packages/sklearn/utils/deprecation.py:144: FutureWarning: The sklearn.neighbors.base module is  deprecated in version 0.22 and will be removed in version 0.24. The corresponding classes / functions should instead be imported from sklearn.neighbors. Anything that cannot be imported from sklearn.neighbors is now part of the private API.\n",
            "  warnings.warn(message, FutureWarning)\n",
            "/usr/local/lib/python3.6/dist-packages/sklearn/utils/deprecation.py:87: FutureWarning: Function safe_indexing is deprecated; safe_indexing is deprecated in version 0.22 and will be removed in version 0.24.\n",
            "  warnings.warn(msg, category=FutureWarning)\n"
          ],
          "name": "stderr"
        }
      ]
    },
    {
      "cell_type": "code",
      "metadata": {
        "id": "Q52nX_muI_aL",
        "colab_type": "code",
        "colab": {
          "base_uri": "https://localhost:8080/",
          "height": 52
        },
        "outputId": "3e88a47d-f9e2-4850-f900-d71ea80935a1"
      },
      "source": [
        "import numpy as np\n",
        "(unique, counts) = np.unique(y_balanced, return_counts=True)\n",
        "frequencies = np.asarray((unique, counts)).T\n",
        "print(frequencies)\n",
        "#see it is balaanced now"
      ],
      "execution_count": 8,
      "outputs": [
        {
          "output_type": "stream",
          "text": [
            "[['stable' 5092]\n",
            " ['unstable' 5092]]\n"
          ],
          "name": "stdout"
        }
      ]
    },
    {
      "cell_type": "code",
      "metadata": {
        "id": "unKVh5g6EMsD",
        "colab_type": "code",
        "colab": {}
      },
      "source": [
        "from sklearn.preprocessing import StandardScaler\n",
        "scaler = StandardScaler()\n",
        "normalised_train_df = scaler.fit_transform(x_train_balanced)\n",
        "normalised_train_df = pd.DataFrame(normalised_train_df,columns=x_train.columns)\n",
        "x_test = x_test.reset_index(drop=True)\n",
        "normalised_test_df = scaler.transform(x_test)\n",
        "normalised_test_df = pd.DataFrame(normalised_test_df,columns=x_test.columns)"
      ],
      "execution_count": 9,
      "outputs": []
    },
    {
      "cell_type": "code",
      "metadata": {
        "id": "cjf2kJNqEMse",
        "colab_type": "code",
        "colab": {
          "base_uri": "https://localhost:8080/",
          "height": 105
        },
        "outputId": "b2588629-08e1-4883-d3f7-1c0cff9a7662"
      },
      "source": [
        "#Logistic Regression\n",
        "from sklearn.linear_model import LogisticRegression\n",
        "log_reg = LogisticRegression()\n",
        "log_reg.fit(normalised_train_df, y_balanced)"
      ],
      "execution_count": 10,
      "outputs": [
        {
          "output_type": "execute_result",
          "data": {
            "text/plain": [
              "LogisticRegression(C=1.0, class_weight=None, dual=False, fit_intercept=True,\n",
              "                   intercept_scaling=1, l1_ratio=None, max_iter=100,\n",
              "                   multi_class='auto', n_jobs=None, penalty='l2',\n",
              "                   random_state=None, solver='lbfgs', tol=0.0001, verbose=0,\n",
              "                   warm_start=False)"
            ]
          },
          "metadata": {
            "tags": []
          },
          "execution_count": 10
        }
      ]
    },
    {
      "cell_type": "code",
      "metadata": {
        "id": "sGd8ZcCVEMs7",
        "colab_type": "code",
        "colab": {
          "base_uri": "https://localhost:8080/",
          "height": 34
        },
        "outputId": "fdcc1a96-6297-4fe8-a94b-6c9c4d70cfb1"
      },
      "source": [
        "from sklearn.model_selection import cross_val_score\n",
        "scores = cross_val_score(log_reg, normalised_train_df, y_balanced, cv=5, scoring='f1_macro')\n",
        "scores"
      ],
      "execution_count": 11,
      "outputs": [
        {
          "output_type": "execute_result",
          "data": {
            "text/plain": [
              "array([0.80215317, 0.81786784, 0.80510386, 0.83356275, 0.80421639])"
            ]
          },
          "metadata": {
            "tags": []
          },
          "execution_count": 11
        }
      ]
    },
    {
      "cell_type": "code",
      "metadata": {
        "id": "frZMxCTtEMtN",
        "colab_type": "code",
        "colab": {}
      },
      "source": [
        "from sklearn.metrics import recall_score, accuracy_score, precision_score, f1_score,confusion_matrix\n",
        "from sklearn.metrics import plot_confusion_matrix\n",
        "new_predictions = log_reg.predict(normalised_test_df)\n",
        "cnf_mat = confusion_matrix(y_true=y_test, y_pred=new_predictions,labels=['stable','unstable'])"
      ],
      "execution_count": 12,
      "outputs": []
    },
    {
      "cell_type": "code",
      "metadata": {
        "id": "u4vqfIHMEMtd",
        "colab_type": "code",
        "colab": {
          "base_uri": "https://localhost:8080/",
          "height": 52
        },
        "outputId": "8cffab26-f6a5-43bb-a540-ee4783aa89da"
      },
      "source": [
        "cnf_mat"
      ],
      "execution_count": 13,
      "outputs": [
        {
          "output_type": "execute_result",
          "data": {
            "text/plain": [
              "array([[ 552,  160],\n",
              "       [ 269, 1019]])"
            ]
          },
          "metadata": {
            "tags": []
          },
          "execution_count": 13
        }
      ]
    },
    {
      "cell_type": "code",
      "metadata": {
        "id": "nAvi_t5TEMtz",
        "colab_type": "code",
        "colab": {
          "base_uri": "https://localhost:8080/",
          "height": 296
        },
        "outputId": "28d3ee52-4238-425c-9331-e4397a1d58fc"
      },
      "source": [
        "from sklearn.ensemble import RandomForestClassifier\n",
        "model = RandomForestClassifier(random_state=1)\n",
        "# fit the model on the whole dataset\n",
        "model.fit(normalised_train_df,y_balanced)\n",
        "plot_confusion_matrix(model, \n",
        "                      normalised_test_df, \n",
        "                      y_test, \n",
        "                      display_labels=[\"stable\", \"unstable\"])"
      ],
      "execution_count": 14,
      "outputs": [
        {
          "output_type": "execute_result",
          "data": {
            "text/plain": [
              "<sklearn.metrics._plot.confusion_matrix.ConfusionMatrixDisplay at 0x7fcab1aef2e8>"
            ]
          },
          "metadata": {
            "tags": []
          },
          "execution_count": 14
        },
        {
          "output_type": "display_data",
          "data": {
            "image/png": "[encoded data removed]",
            "text/plain": [
              "<Figure size 432x288 with 2 Axes>"
            ]
          },
          "metadata": {
            "tags": [],
            "needs_background": "light"
          }
        }
      ]
    },
    {
      "cell_type": "code",
      "metadata": {
        "id": "SkwQLekbEMuG",
        "colab_type": "code",
        "colab": {}
      },
      "source": [
        "new_predictions1 = model.predict(normalised_test_df)\n",
        "cnf_mat1 = confusion_matrix(y_true=y_test, y_pred=new_predictions1,labels=['stable','unstable'])"
      ],
      "execution_count": 15,
      "outputs": []
    },
    {
      "cell_type": "code",
      "metadata": {
        "id": "zIKKjJtHEMuU",
        "colab_type": "code",
        "colab": {
          "base_uri": "https://localhost:8080/",
          "height": 52
        },
        "outputId": "e7be3520-16d6-4ec4-ce09-aacdb3ce29c1"
      },
      "source": [
        "cnf_mat1"
      ],
      "execution_count": 16,
      "outputs": [
        {
          "output_type": "execute_result",
          "data": {
            "text/plain": [
              "array([[ 647,   65],\n",
              "       [  99, 1189]])"
            ]
          },
          "metadata": {
            "tags": []
          },
          "execution_count": 16
        }
      ]
    },
    {
      "cell_type": "markdown",
      "metadata": {
        "id": "LeejPOKwSQh7",
        "colab_type": "text"
      },
      "source": [
        "# Other model evaluation parameters"
      ]
    },
    {
      "cell_type": "code",
      "metadata": {
        "id": "sk9Kvx59Xx1B",
        "colab_type": "code",
        "colab": {
          "base_uri": "https://localhost:8080/",
          "height": 34
        },
        "outputId": "f586242f-8819-4727-94b4-348a23f4b39e"
      },
      "source": [
        "accuracy = accuracy_score(y_true=y_test, y_pred=new_predictions1)\n",
        "print('Accuracy: {}'.format(round(accuracy*100), 2))"
      ],
      "execution_count": 17,
      "outputs": [
        {
          "output_type": "stream",
          "text": [
            "Accuracy: 92.0\n"
          ],
          "name": "stdout"
        }
      ]
    },
    {
      "cell_type": "code",
      "metadata": {
        "id": "UrxsDA8pWRed",
        "colab_type": "code",
        "colab": {
          "base_uri": "https://localhost:8080/",
          "height": 34
        },
        "outputId": "6be0202d-321f-42eb-915e-089cc81fd5dd"
      },
      "source": [
        "precision = precision_score(y_true=y_test, y_pred=new_predictions1, pos_label='stable')\n",
        "print('Precision: {}'.format(round(precision*100), 2))"
      ],
      "execution_count": 18,
      "outputs": [
        {
          "output_type": "stream",
          "text": [
            "Precision: 87.0\n"
          ],
          "name": "stdout"
        }
      ]
    },
    {
      "cell_type": "code",
      "metadata": {
        "id": "fYPW2f12WXCo",
        "colab_type": "code",
        "colab": {
          "base_uri": "https://localhost:8080/",
          "height": 34
        },
        "outputId": "277c842c-4b39-47b6-c08b-aa4bc613a452"
      },
      "source": [
        "recall = recall_score(y_true=y_test, y_pred=new_predictions1, pos_label='stable')\n",
        "print('Recall: {}'.format(round(recall*100), 2)) #prints 51.0"
      ],
      "execution_count": 19,
      "outputs": [
        {
          "output_type": "stream",
          "text": [
            "Recall: 91.0\n"
          ],
          "name": "stdout"
        }
      ]
    },
    {
      "cell_type": "code",
      "metadata": {
        "id": "s9wveN3tWfoK",
        "colab_type": "code",
        "colab": {
          "base_uri": "https://localhost:8080/",
          "height": 34
        },
        "outputId": "fbc7dea2-4804-413a-fe44-0c025dbc134a"
      },
      "source": [
        "f1 = f1_score(y_true=y_test, y_pred=new_predictions1, pos_label='stable')\n",
        "print('F1: {}'.format(round(f1*100), 2)) #prints 45.0"
      ],
      "execution_count": 20,
      "outputs": [
        {
          "output_type": "stream",
          "text": [
            "F1: 89.0\n"
          ],
          "name": "stdout"
        }
      ]
    },
    {
      "cell_type": "markdown",
      "metadata": {
        "id": "Wcts6pRqTWYE",
        "colab_type": "text"
      },
      "source": [
        "# Extra Tree Classifier"
      ]
    },
    {
      "cell_type": "code",
      "metadata": {
        "id": "UVlkZwIoEMuv",
        "colab_type": "code",
        "colab": {}
      },
      "source": [
        "from sklearn.ensemble import ExtraTreesClassifier\n",
        "clf = ExtraTreesClassifier(random_state=1)\n",
        "clf.fit(normalised_train_df,y_balanced)\n",
        "new_predictions2 = clf.predict(normalised_test_df)\n",
        "cnf_mat2 = confusion_matrix(y_true=y_test, y_pred=new_predictions2,labels=['stable','unstable'])"
      ],
      "execution_count": 21,
      "outputs": []
    },
    {
      "cell_type": "code",
      "metadata": {
        "id": "UR8GSJqpEMvQ",
        "colab_type": "code",
        "colab": {
          "base_uri": "https://localhost:8080/",
          "height": 52
        },
        "outputId": "7acd710f-9fc4-4e1a-b53f-a88850d86085"
      },
      "source": [
        "cnf_mat2"
      ],
      "execution_count": 22,
      "outputs": [
        {
          "output_type": "execute_result",
          "data": {
            "text/plain": [
              "array([[ 634,   78],\n",
              "       [  84, 1204]])"
            ]
          },
          "metadata": {
            "tags": []
          },
          "execution_count": 22
        }
      ]
    },
    {
      "cell_type": "markdown",
      "metadata": {
        "colab_type": "text",
        "id": "3-JFLaJ3SdgS"
      },
      "source": [
        "# Other model evaluation parameters"
      ]
    },
    {
      "cell_type": "code",
      "metadata": {
        "colab_type": "code",
        "id": "cFNUM9mvSdgW",
        "colab": {
          "base_uri": "https://localhost:8080/",
          "height": 34
        },
        "outputId": "3c4e6e5b-af41-412d-adc0-c3d2b412e9c9"
      },
      "source": [
        "accuracy = accuracy_score(y_true=y_test, y_pred=new_predictions2)\n",
        "print('Accuracy: {}'.format(round(accuracy*100), 2))"
      ],
      "execution_count": 23,
      "outputs": [
        {
          "output_type": "stream",
          "text": [
            "Accuracy: 92.0\n"
          ],
          "name": "stdout"
        }
      ]
    },
    {
      "cell_type": "code",
      "metadata": {
        "colab_type": "code",
        "id": "_ty9Um1VSdgq",
        "colab": {
          "base_uri": "https://localhost:8080/",
          "height": 34
        },
        "outputId": "f3100c54-c3bd-4817-d6e5-42b796f4f62b"
      },
      "source": [
        "precision = precision_score(y_true=y_test, y_pred=new_predictions2, pos_label='stable')\n",
        "print('Precision: {}'.format(round(precision*100), 2))"
      ],
      "execution_count": 24,
      "outputs": [
        {
          "output_type": "stream",
          "text": [
            "Precision: 88.0\n"
          ],
          "name": "stdout"
        }
      ]
    },
    {
      "cell_type": "code",
      "metadata": {
        "colab_type": "code",
        "id": "8N-b8_9RSdg3",
        "colab": {
          "base_uri": "https://localhost:8080/",
          "height": 34
        },
        "outputId": "c7ebb215-23ca-491b-9388-d2b2f705eb0c"
      },
      "source": [
        "recall = recall_score(y_true=y_test, y_pred=new_predictions2, pos_label='stable')\n",
        "print('Recall: {}'.format(round(recall*100), 2)) #prints 51.0"
      ],
      "execution_count": 25,
      "outputs": [
        {
          "output_type": "stream",
          "text": [
            "Recall: 89.0\n"
          ],
          "name": "stdout"
        }
      ]
    },
    {
      "cell_type": "code",
      "metadata": {
        "colab_type": "code",
        "id": "_5tmxPg6SdhD",
        "colab": {
          "base_uri": "https://localhost:8080/",
          "height": 34
        },
        "outputId": "f4fbbe66-4954-45cf-dbfd-5c76d49ef475"
      },
      "source": [
        "f1 = f1_score(y_true=y_test, y_pred=new_predictions2, pos_label='stable')\n",
        "print('F1: {}'.format(round(f1*100), 2)) #prints 45.0"
      ],
      "execution_count": 26,
      "outputs": [
        {
          "output_type": "stream",
          "text": [
            "F1: 89.0\n"
          ],
          "name": "stdout"
        }
      ]
    },
    {
      "cell_type": "markdown",
      "metadata": {
        "id": "Hn1dWGQdTdDB",
        "colab_type": "text"
      },
      "source": [
        "# Improving Extra Tree"
      ]
    },
    {
      "cell_type": "code",
      "metadata": {
        "id": "MXFEMsFSEMve",
        "colab_type": "code",
        "colab": {
          "base_uri": "https://localhost:8080/",
          "height": 52
        },
        "outputId": "9e771091-aafa-4cf7-f34e-e6075a161ce8"
      },
      "source": [
        "from sklearn.model_selection import RandomizedSearchCV\n",
        "n_estimators = [50, 100, 300, 500, 1000]\n",
        "min_samples_split = [2, 3, 5, 7, 9]\n",
        "min_samples_leaf = [1, 2, 4, 6, 8]\n",
        "max_features = ['auto', 'sqrt', 'log2', None]\n",
        "hyperparameter_grid = {'n_estimators': n_estimators,'min_samples_leaf': min_samples_leaf,'min_samples_split': min_samples_split,\n",
        "                       'max_features': max_features}\n",
        "utility = RandomizedSearchCV(estimator=ExtraTreesClassifier(random_state=1),\n",
        "                            param_distributions=hyperparameter_grid,random_state=1)\n",
        "result = utility.fit(normalised_train_df, y_balanced)\n",
        "\n",
        "print('Best Score: ', result.best_score_)\n",
        "print('Best Params: ', result.best_params_)"
      ],
      "execution_count": 27,
      "outputs": [
        {
          "output_type": "stream",
          "text": [
            "Best Score:  0.9491371802402122\n",
            "Best Params:  {'n_estimators': 300, 'min_samples_split': 9, 'min_samples_leaf': 2, 'max_features': 'auto'}\n"
          ],
          "name": "stdout"
        }
      ]
    },
    {
      "cell_type": "code",
      "metadata": {
        "id": "yihE1V5CEMvy",
        "colab_type": "code",
        "colab": {
          "base_uri": "https://localhost:8080/",
          "height": 52
        },
        "outputId": "ef064384-95c5-4503-f317-5d7f23e16158"
      },
      "source": [
        "#improved Extratree classifier\n",
        "clfe = ExtraTreesClassifier(random_state=1,n_estimators=300,min_samples_split=9, min_samples_leaf= 2,max_features= 'auto')\n",
        "clfe.fit(normalised_train_df,y_balanced)\n",
        "new_predictionse = clfe.predict(normalised_test_df)\n",
        "cnf_mate = confusion_matrix(y_true=y_test, y_pred=new_predictionse,labels=['stable','unstable'])\n",
        "cnf_mate"
      ],
      "execution_count": 28,
      "outputs": [
        {
          "output_type": "execute_result",
          "data": {
            "text/plain": [
              "array([[ 648,   64],\n",
              "       [  95, 1193]])"
            ]
          },
          "metadata": {
            "tags": []
          },
          "execution_count": 28
        }
      ]
    },
    {
      "cell_type": "markdown",
      "metadata": {
        "colab_type": "text",
        "id": "WKhHWucATkay"
      },
      "source": [
        "# Other model evaluation parameters"
      ]
    },
    {
      "cell_type": "code",
      "metadata": {
        "colab_type": "code",
        "id": "LCFI6s7fTka8",
        "colab": {
          "base_uri": "https://localhost:8080/",
          "height": 34
        },
        "outputId": "806820ae-7161-47a5-b881-825fbc51939c"
      },
      "source": [
        "accuracy = accuracy_score(y_true=y_test, y_pred=new_predictionse)\n",
        "print('Accuracy: {}'.format(round(accuracy*100), 2))"
      ],
      "execution_count": 29,
      "outputs": [
        {
          "output_type": "stream",
          "text": [
            "Accuracy: 92.0\n"
          ],
          "name": "stdout"
        }
      ]
    },
    {
      "cell_type": "code",
      "metadata": {
        "colab_type": "code",
        "id": "DmOWxbZVTkbR",
        "colab": {
          "base_uri": "https://localhost:8080/",
          "height": 34
        },
        "outputId": "53be9023-c0f9-4d53-e76d-de4604fdfe16"
      },
      "source": [
        "precision = precision_score(y_true=y_test, y_pred=new_predictionse, pos_label='stable')\n",
        "print('Precision: {}'.format(round(precision*100), 2))"
      ],
      "execution_count": 30,
      "outputs": [
        {
          "output_type": "stream",
          "text": [
            "Precision: 87.0\n"
          ],
          "name": "stdout"
        }
      ]
    },
    {
      "cell_type": "code",
      "metadata": {
        "colab_type": "code",
        "id": "1RfjVrDQTkbe",
        "colab": {
          "base_uri": "https://localhost:8080/",
          "height": 34
        },
        "outputId": "48ca2e83-593b-4323-c2c5-02c381a3e496"
      },
      "source": [
        "recall = recall_score(y_true=y_test, y_pred=new_predictionse, pos_label='stable')\n",
        "print('Recall: {}'.format(round(recall*100), 2)) #prints 51.0"
      ],
      "execution_count": 31,
      "outputs": [
        {
          "output_type": "stream",
          "text": [
            "Recall: 91.0\n"
          ],
          "name": "stdout"
        }
      ]
    },
    {
      "cell_type": "code",
      "metadata": {
        "colab_type": "code",
        "id": "Qm_O-e-_Tkbq",
        "colab": {
          "base_uri": "https://localhost:8080/",
          "height": 34
        },
        "outputId": "2a1881cc-265c-45e2-89a6-77e0c1a27bc4"
      },
      "source": [
        "f1 = f1_score(y_true=y_test, y_pred=new_predictionse, pos_label='stable')\n",
        "print('F1: {}'.format(round(f1*100), 2)) #prints 45.0"
      ],
      "execution_count": 32,
      "outputs": [
        {
          "output_type": "stream",
          "text": [
            "F1: 89.0\n"
          ],
          "name": "stdout"
        }
      ]
    },
    {
      "cell_type": "markdown",
      "metadata": {
        "id": "5fM8lxh7UGeD",
        "colab_type": "text"
      },
      "source": [
        "# XGB Classifier"
      ]
    },
    {
      "cell_type": "code",
      "metadata": {
        "id": "5RJ9gXGnEMwE",
        "colab_type": "code",
        "colab": {
          "base_uri": "https://localhost:8080/",
          "height": 52
        },
        "outputId": "7cf2870d-5dbb-48ee-c080-18bfc4d69130"
      },
      "source": [
        "from xgboost import XGBClassifier\n",
        "model3 = XGBClassifier(random_state=1)\n",
        "model3.fit(normalised_train_df, y_balanced)\n",
        "new_predictions3 = model3.predict(normalised_test_df)\n",
        "cnf_mat3 = confusion_matrix(y_true=y_test, y_pred=new_predictions3,labels=['stable','unstable'])\n",
        "cnf_mat3"
      ],
      "execution_count": 33,
      "outputs": [
        {
          "output_type": "execute_result",
          "data": {
            "text/plain": [
              "array([[ 647,   65],\n",
              "       [ 114, 1174]])"
            ]
          },
          "metadata": {
            "tags": []
          },
          "execution_count": 33
        }
      ]
    },
    {
      "cell_type": "markdown",
      "metadata": {
        "colab_type": "text",
        "id": "U-UA2PKSURuj"
      },
      "source": [
        "# Other model evaluation parameters"
      ]
    },
    {
      "cell_type": "code",
      "metadata": {
        "colab_type": "code",
        "id": "aYsXUj0nURun",
        "colab": {
          "base_uri": "https://localhost:8080/",
          "height": 34
        },
        "outputId": "d5b53efc-8657-4be7-93af-8054663b489e"
      },
      "source": [
        "accuracy = accuracy_score(y_true=y_test, y_pred=new_predictions3)\n",
        "print('Accuracy: {}'.format(round(accuracy*100), 2))"
      ],
      "execution_count": 34,
      "outputs": [
        {
          "output_type": "stream",
          "text": [
            "Accuracy: 91.0\n"
          ],
          "name": "stdout"
        }
      ]
    },
    {
      "cell_type": "code",
      "metadata": {
        "colab_type": "code",
        "id": "fq70UYZVURu_",
        "colab": {
          "base_uri": "https://localhost:8080/",
          "height": 34
        },
        "outputId": "4362b34f-482b-4964-d2fb-dc8e1896e5f5"
      },
      "source": [
        "precision = precision_score(y_true=y_test, y_pred=new_predictions3, pos_label='stable')\n",
        "print('Precision: {}'.format(round(precision*100), 2))"
      ],
      "execution_count": 35,
      "outputs": [
        {
          "output_type": "stream",
          "text": [
            "Precision: 85.0\n"
          ],
          "name": "stdout"
        }
      ]
    },
    {
      "cell_type": "code",
      "metadata": {
        "colab_type": "code",
        "id": "dSUVG_jgURvL",
        "colab": {
          "base_uri": "https://localhost:8080/",
          "height": 34
        },
        "outputId": "d5e43b87-3199-4c63-9b48-8d92b5f95f4f"
      },
      "source": [
        "recall = recall_score(y_true=y_test, y_pred=new_predictions3, pos_label='stable')\n",
        "print('Recall: {}'.format(round(recall*100), 2)) #prints 51.0"
      ],
      "execution_count": 36,
      "outputs": [
        {
          "output_type": "stream",
          "text": [
            "Recall: 91.0\n"
          ],
          "name": "stdout"
        }
      ]
    },
    {
      "cell_type": "code",
      "metadata": {
        "colab_type": "code",
        "id": "5dkggTUKURva",
        "colab": {
          "base_uri": "https://localhost:8080/",
          "height": 34
        },
        "outputId": "29190dea-6303-45bc-8878-50ca05f65849"
      },
      "source": [
        "f1 = f1_score(y_true=y_test, y_pred=new_predictions3, pos_label='stable')\n",
        "print('F1: {}'.format(round(f1*100), 2)) #prints 45.0"
      ],
      "execution_count": 37,
      "outputs": [
        {
          "output_type": "stream",
          "text": [
            "F1: 88.0\n"
          ],
          "name": "stdout"
        }
      ]
    },
    {
      "cell_type": "markdown",
      "metadata": {
        "id": "7On6rGNXUdqJ",
        "colab_type": "text"
      },
      "source": [
        "# LGBM Classifier"
      ]
    },
    {
      "cell_type": "code",
      "metadata": {
        "id": "PN0JNqCeEMwa",
        "colab_type": "code",
        "colab": {
          "base_uri": "https://localhost:8080/",
          "height": 300
        },
        "outputId": "172ef218-0609-42a4-be08-1674c04cf47b"
      },
      "source": [
        "from lightgbm import LGBMClassifier\n",
        "model4 = LGBMClassifier(random_state=1)\n",
        "# fit the model on the whole dataset\n",
        "model4.fit(normalised_train_df, y_balanced)\n",
        "plot_confusion_matrix(model4, \n",
        "                      normalised_test_df, \n",
        "                      y_test, \n",
        "                      display_labels=[\"stable\", \"unstable\"])"
      ],
      "execution_count": 38,
      "outputs": [
        {
          "output_type": "execute_result",
          "data": {
            "text/plain": [
              "<sklearn.metrics._plot.confusion_matrix.ConfusionMatrixDisplay at 0x7fcab14f0438>"
            ]
          },
          "metadata": {
            "tags": []
          },
          "execution_count": 38
        },
        {
          "output_type": "display_data",
          "data": {
            "image/png": "[encoded data removed]",
            "text/plain": [
              "<Figure size 432x288 with 2 Axes>"
            ]
          },
          "metadata": {
            "tags": [],
            "needs_background": "light"
          }
        }
      ]
    },
    {
      "cell_type": "code",
      "metadata": {
        "id": "6Rd4ChxUEMwo",
        "colab_type": "code",
        "colab": {
          "base_uri": "https://localhost:8080/",
          "height": 52
        },
        "outputId": "ba900ab0-7862-45a8-b161-5ca64eb09181"
      },
      "source": [
        "new_predictions4 = model4.predict(normalised_test_df)\n",
        "cnf_mat4 = confusion_matrix(y_true=y_test, y_pred=new_predictions4,labels=['stable','unstable'])\n",
        "cnf_mat4"
      ],
      "execution_count": 39,
      "outputs": [
        {
          "output_type": "execute_result",
          "data": {
            "text/plain": [
              "array([[ 660,   52],\n",
              "       [  79, 1209]])"
            ]
          },
          "metadata": {
            "tags": []
          },
          "execution_count": 39
        }
      ]
    },
    {
      "cell_type": "markdown",
      "metadata": {
        "colab_type": "text",
        "id": "-u5pd3z7VKS8"
      },
      "source": [
        "# Other model evaluation parameters"
      ]
    },
    {
      "cell_type": "code",
      "metadata": {
        "colab_type": "code",
        "id": "toKbUVU2VKTA",
        "colab": {
          "base_uri": "https://localhost:8080/",
          "height": 34
        },
        "outputId": "c2cc0835-f79a-43f7-c1d1-b8a8bcc4c459"
      },
      "source": [
        "accuracy = accuracy_score(y_true=y_test, y_pred=new_predictions4)\n",
        "print('Accuracy: {}'.format(round(accuracy*100), 2))"
      ],
      "execution_count": 40,
      "outputs": [
        {
          "output_type": "stream",
          "text": [
            "Accuracy: 93.0\n"
          ],
          "name": "stdout"
        }
      ]
    },
    {
      "cell_type": "code",
      "metadata": {
        "colab_type": "code",
        "id": "jSz0LpmcVKTQ",
        "colab": {
          "base_uri": "https://localhost:8080/",
          "height": 34
        },
        "outputId": "dd9069fc-f4fc-4d9f-f866-4ea8818a087c"
      },
      "source": [
        "precision = precision_score(y_true=y_test, y_pred=new_predictions4, pos_label='stable')\n",
        "print('Precision: {}'.format(round(precision*100), 2))"
      ],
      "execution_count": 41,
      "outputs": [
        {
          "output_type": "stream",
          "text": [
            "Precision: 89.0\n"
          ],
          "name": "stdout"
        }
      ]
    },
    {
      "cell_type": "code",
      "metadata": {
        "colab_type": "code",
        "id": "PnJWV_L_VKTf",
        "colab": {
          "base_uri": "https://localhost:8080/",
          "height": 34
        },
        "outputId": "1be29679-3bd7-4796-ab2d-4698ec29ede2"
      },
      "source": [
        "recall = recall_score(y_true=y_test, y_pred=new_predictions4, pos_label='stable')\n",
        "print('Recall: {}'.format(round(recall*100), 2)) #prints 51.0"
      ],
      "execution_count": 42,
      "outputs": [
        {
          "output_type": "stream",
          "text": [
            "Recall: 93.0\n"
          ],
          "name": "stdout"
        }
      ]
    },
    {
      "cell_type": "code",
      "metadata": {
        "colab_type": "code",
        "id": "5P9p1NcLVKTr",
        "colab": {
          "base_uri": "https://localhost:8080/",
          "height": 34
        },
        "outputId": "287c7a34-585d-497e-afea-7ff18bb34a4f"
      },
      "source": [
        "f1 = f1_score(y_true=y_test, y_pred=new_predictions4, pos_label='stable')\n",
        "print('F1: {}'.format(round(f1*100), 2)) #prints 45.0"
      ],
      "execution_count": 43,
      "outputs": [
        {
          "output_type": "stream",
          "text": [
            "F1: 91.0\n"
          ],
          "name": "stdout"
        }
      ]
    }
  ]
}